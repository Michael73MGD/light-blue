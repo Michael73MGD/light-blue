{
 "metadata": {
  "language_info": {
   "codemirror_mode": {
    "name": "ipython",
    "version": 3
   },
   "file_extension": ".py",
   "mimetype": "text/x-python",
   "name": "python",
   "nbconvert_exporter": "python",
   "pygments_lexer": "ipython3",
   "version": "3.8.5-final"
  },
  "orig_nbformat": 2,
  "kernelspec": {
   "name": "python3",
   "display_name": "Python 3.8.5 64-bit",
   "metadata": {
    "interpreter": {
     "hash": "31f2aee4e71d21fbe5cf8b01ff0e069b9275f58929596ceb00d14d90e3e16cd6"
    }
   }
  }
 },
 "nbformat": 4,
 "nbformat_minor": 2,
 "cells": [
  {
   "cell_type": "code",
   "execution_count": 1,
   "metadata": {},
   "outputs": [],
   "source": [
    "import cv2 as cv\n",
    "import numpy as np\n",
    "import socket\n",
    "import sys \n",
    "import urllib"
   ]
  },
  {
   "cell_type": "code",
   "execution_count": 5,
   "metadata": {},
   "outputs": [],
   "source": [
    "img_url = \"http://192.168.1.34:8000/stream.mjpg\"\n",
    "\n",
    "stream = urllib.request.urlopen(img_url)\n",
    "bytes = b''\n",
    "while True:\n",
    "    bytes += stream.read(1024)\n",
    "    a = bytes.find(b'\\xff\\xd8')\n",
    "    b = bytes.find(b'\\xff\\xd9')\n",
    "    if a != -1 and b != -1:\n",
    "        jpg = bytes[a:b+2]\n",
    "        bytes = bytes[b+2:]\n",
    "        frame = cv.imdecode(np.fromstring(jpg, dtype=np.uint8), cv.IMREAD_COLOR)\n",
    "        cv.imwrite(\"cv_test/frame.jpg\", frame)\n",
    "        break"
   ]
  },
  {
   "cell_type": "code",
   "execution_count": 6,
   "metadata": {},
   "outputs": [
    {
     "output_type": "execute_result",
     "data": {
      "text/plain": [
       "True"
      ]
     },
     "metadata": {},
     "execution_count": 6
    }
   ],
   "source": [
    "hsv = cv.cvtColor(frame, cv.COLOR_BGR2HSV)\n",
    "\n",
    "H = hsv[:,:,0]\n",
    "S = hsv[:,:,1]\n",
    "V = hsv[:,:,2]\n",
    "\n",
    "cv.imwrite(\"cv_test/H.jpg\", H)\n",
    "cv.imwrite(\"cv_test/S.jpg\", S)\n",
    "cv.imwrite(\"cv_test/V.jpg\", V)"
   ]
  },
  {
   "cell_type": "code",
   "execution_count": 12,
   "metadata": {},
   "outputs": [
    {
     "output_type": "stream",
     "name": "stdout",
     "text": [
      "<Response [200]>\n"
     ]
    }
   ],
   "source": [
    "frame = cv.imread(\"cv_test/frametst.jpg\")"
   ]
  }
 ]
}