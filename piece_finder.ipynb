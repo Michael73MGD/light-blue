{
 "metadata": {
  "language_info": {
   "codemirror_mode": {
    "name": "ipython",
    "version": 3
   },
   "file_extension": ".py",
   "mimetype": "text/x-python",
   "name": "python",
   "nbconvert_exporter": "python",
   "pygments_lexer": "ipython3",
   "version": "3.8.5-final"
  },
  "orig_nbformat": 2,
  "kernelspec": {
   "name": "python3",
   "display_name": "Python 3.8.5 64-bit",
   "metadata": {
    "interpreter": {
     "hash": "31f2aee4e71d21fbe5cf8b01ff0e069b9275f58929596ceb00d14d90e3e16cd6"
    }
   }
  }
 },
 "nbformat": 4,
 "nbformat_minor": 2,
 "cells": [
  {
   "cell_type": "code",
   "execution_count": 2,
   "metadata": {},
   "outputs": [],
   "source": [
    "import cv2 as cv\n",
    "import numpy as np\n",
    "import socket\n",
    "import sys \n",
    "import urllib"
   ]
  },
  {
   "cell_type": "code",
   "execution_count": 21,
   "metadata": {},
   "outputs": [],
   "source": [
    "def undistort(img):\n",
    "    DIM=(640, 480)\n",
    "    K=np.array([[1501.5597250438875, 0.0, 320.77526075632784], [0.0, 1493.9696668107, 233.12519080752543], [0.0, 0.0, 1.0]])\n",
    "    D=np.array([[-5.41113709799924], [46.74932433849278], [-444.39018982174593], [2188.8422513635305]])\n",
    "    h,w = img.shape[:2]    \n",
    "    map1, map2 = cv.fisheye.initUndistortRectifyMap(K, D, np.eye(3), K, DIM, cv.CV_16SC2)\n",
    "    undistorted_img = cv.remap(img, map1, map2, interpolation=cv.INTER_LINEAR, borderMode=cv.BORDER_CONSTANT)    \n",
    "    return undistorted_img"
   ]
  },
  {
   "cell_type": "code",
   "execution_count": 22,
   "metadata": {},
   "outputs": [],
   "source": [
    "img_url = \"http://192.168.1.34:8000/stream.mjpg\"\n",
    "\n",
    "stream = urllib.request.urlopen(img_url)\n",
    "bytes = b''\n",
    "while True:\n",
    "    bytes += stream.read(1024)\n",
    "    a = bytes.find(b'\\xff\\xd8')\n",
    "    b = bytes.find(b'\\xff\\xd9')\n",
    "    if a != -1 and b != -1:\n",
    "        jpg = bytes[a:b+2]\n",
    "        bytes = bytes[b+2:]\n",
    "        frame = cv.imdecode(np.fromstring(jpg, dtype=np.uint8), cv.IMREAD_COLOR)\n",
    "        frame = undistort(frame)\n",
    "        cv.imwrite(\"cv_test/frame.jpg\", frame)\n",
    "        break"
   ]
  },
  {
   "cell_type": "code",
   "execution_count": 8,
   "metadata": {},
   "outputs": [
    {
     "output_type": "execute_result",
     "data": {
      "text/plain": [
       "True"
      ]
     },
     "metadata": {},
     "execution_count": 8
    }
   ],
   "source": [
    "hsv = cv.cvtColor(frame, cv.COLOR_BGR2HSV)\n",
    "\n",
    "H = hsv[:,:,0]\n",
    "S = hsv[:,:,1]\n",
    "V = hsv[:,:,2]\n",
    "\n",
    "cv.imwrite(\"cv_test/H.jpg\", H)\n",
    "cv.imwrite(\"cv_test/S.jpg\", S)\n",
    "cv.imwrite(\"cv_test/V.jpg\", V)"
   ]
  },
  {
   "cell_type": "code",
   "execution_count": 7,
   "metadata": {},
   "outputs": [],
   "source": [
    "frame = cv.imread(\"cv_test/frametst.jpg\")"
   ]
  },
  {
   "cell_type": "code",
   "execution_count": null,
   "metadata": {},
   "outputs": [],
   "source": []
  }
 ]
}